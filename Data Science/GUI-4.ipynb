{
 "cells": [
  {
   "cell_type": "markdown",
   "metadata": {},
   "source": [
    "# Empty Window"
   ]
  },
  {
   "cell_type": "code",
   "execution_count": 1,
   "metadata": {},
   "outputs": [],
   "source": [
    "import tkinter\n",
    "r=tkinter.Tk()\n",
    "r.title('My Window')\n",
    "r.geometry('100x100+200+0')\n",
    "r.mainloop()"
   ]
  },
  {
   "cell_type": "markdown",
   "metadata": {},
   "source": [
    "# Hello World"
   ]
  },
  {
   "cell_type": "code",
   "execution_count": 2,
   "metadata": {},
   "outputs": [],
   "source": [
    "from tkinter import Tk,Label\n",
    "r=Tk()\n",
    "r.title('My Window')\n",
    "r.geometry('200x200+400+400')\n",
    "lab1=Label(r,text='Hello World')\n",
    "lab1.pack()\n",
    "r.mainloop()\n"
   ]
  },
  {
   "cell_type": "markdown",
   "metadata": {},
   "source": [
    "# Hello World on different Labels"
   ]
  },
  {
   "cell_type": "code",
   "execution_count": 3,
   "metadata": {},
   "outputs": [],
   "source": [
    "from tkinter import Tk,Label\n",
    "r=Tk()\n",
    "r.title('My Window')\n",
    "r.geometry('200x200+400+400')\n",
    "lab1=Label(r,text='Hello World',  \n",
    "           fg='red',bg='#AFB42B',\n",
    "           borderwidth=6,relief='groove')\n",
    "lab1.pack()\n",
    "lab2=Label(r,text='Hello World', \n",
    "           fg='red',bg='#F0F4C3',\n",
    "           borderwidth=6,relief='sunken')\n",
    "lab2.pack()\n",
    "lab3=Label(r,text='Hello World',\n",
    "           fg='#C2185B',bg='#00BCD4',padx=50,pady=10)\n",
    "lab3.pack()\n",
    "r.mainloop()"
   ]
  },
  {
   "cell_type": "markdown",
   "metadata": {},
   "source": [
    "# Real and Python"
   ]
  },
  {
   "cell_type": "code",
   "execution_count": 4,
   "metadata": {
    "scrolled": true
   },
   "outputs": [],
   "source": [
    "from tkinter import Tk,Label,PhotoImage\n",
    "r=Tk()\n",
    "r.title('My Window')\n",
    "lab1=Label(r,text='Let\\'s Learn Python')\n",
    "lab1.pack()\n",
    "photo1=PhotoImage(file='realPython.png')\n",
    "lab2=Label(r,image=photo1)\n",
    "lab2.pack()\n",
    "photo2=PhotoImage(file='python.png')\n",
    "lab3=Label(r,image=photo2)\n",
    "lab3.pack()\n",
    "r.mainloop()"
   ]
  },
  {
   "cell_type": "markdown",
   "metadata": {},
   "source": [
    "# Columns in window"
   ]
  },
  {
   "cell_type": "code",
   "execution_count": 5,
   "metadata": {},
   "outputs": [],
   "source": [
    "from tkinter import Tk,Label,PhotoImage\n",
    "r=Tk()\n",
    "r.title('My Window')\n",
    "photo1=PhotoImage(file='python20.png')\n",
    "lab1=Label(r,image=photo1)\n",
    "lab1.grid(row=0,column=0)\n",
    "photo2=PhotoImage(file='python20.png')\n",
    "lab2=Label(r,image=photo2)\n",
    "lab2.grid(row=0,column=1)\n",
    "photo3=PhotoImage(file='realPython20.png')\n",
    "lab3=Label(r,image=photo3)\n",
    "lab3.grid(row=1,column=0)\n",
    "photo4=PhotoImage(file='realPython20.png')\n",
    "lab4=Label(r,image=photo4)\n",
    "lab4.grid(row=1,column=1)\n",
    "r.mainloop()"
   ]
  },
  {
   "cell_type": "markdown",
   "metadata": {},
   "source": [
    "# Button"
   ]
  },
  {
   "cell_type": "code",
   "execution_count": 6,
   "metadata": {},
   "outputs": [
    {
     "name": "stdout",
     "output_type": "stream",
     "text": [
      "Hello!!\n"
     ]
    }
   ],
   "source": [
    "from tkinter import Tk,Button\n",
    "\n",
    "def func():\n",
    "    print('Hello!!')\n",
    "\n",
    "r=Tk()\n",
    "b=Button(r,text='Click it!',command=func)\n",
    "b.pack()\n",
    "r.mainloop()\n"
   ]
  },
  {
   "cell_type": "markdown",
   "metadata": {},
   "source": [
    "# Hello on window"
   ]
  },
  {
   "cell_type": "code",
   "execution_count": 7,
   "metadata": {},
   "outputs": [],
   "source": [
    "from tkinter import Tk,Label,Button\n",
    "\n",
    "def func():\n",
    "    l=Label(r,text='Hello!!')\n",
    "    l.pack()\n",
    "\n",
    "r=Tk()\n",
    "b=Button(r,text='Click it!',command=func)\n",
    "b.pack()\n",
    "r.mainloop()\n"
   ]
  },
  {
   "cell_type": "markdown",
   "metadata": {},
   "source": [
    "# Hello on separate Window"
   ]
  },
  {
   "cell_type": "code",
   "execution_count": 8,
   "metadata": {},
   "outputs": [],
   "source": [
    "from tkinter import Tk,Label,Button\n",
    "from tkinter.messagebox import showinfo\n",
    "\n",
    "def func():\n",
    "    showinfo(message='Hello!!')\n",
    "\n",
    "r=Tk()\n",
    "b=Button(r,text='Click it!',command=func)\n",
    "b.pack()\n",
    "r.mainloop()\n"
   ]
  },
  {
   "cell_type": "markdown",
   "metadata": {},
   "source": [
    "# Temperature Converter"
   ]
  },
  {
   "cell_type": "code",
   "execution_count": 9,
   "metadata": {},
   "outputs": [],
   "source": [
    "from tkinter import Tk,Label,Button,Entry\n",
    "def converter():\n",
    "    fah=int(e.get())*9/5+32\n",
    "    l=Label(r,text='Temperature in Fahrenheit is '+str(fah))\n",
    "    l.pack()\n",
    "\n",
    "r=Tk()\n",
    "r.title('Converter')\n",
    "l=Label(r,text='Enter temperature in Celsius:')\n",
    "l.pack()\n",
    "e=Entry(r)\n",
    "e.pack()\n",
    "b=Button(r,text='Convert to Fahrenheit',command=converter)\n",
    "b.pack()\n",
    "r.mainloop()\n"
   ]
  },
  {
   "cell_type": "code",
   "execution_count": null,
   "metadata": {},
   "outputs": [],
   "source": []
  },
  {
   "cell_type": "code",
   "execution_count": null,
   "metadata": {},
   "outputs": [],
   "source": []
  }
 ],
 "metadata": {
  "kernelspec": {
   "display_name": "Python 3",
   "language": "python",
   "name": "python3"
  },
  "language_info": {
   "codemirror_mode": {
    "name": "ipython",
    "version": 3
   },
   "file_extension": ".py",
   "mimetype": "text/x-python",
   "name": "python",
   "nbconvert_exporter": "python",
   "pygments_lexer": "ipython3",
   "version": "3.7.4"
  }
 },
 "nbformat": 4,
 "nbformat_minor": 2
}
